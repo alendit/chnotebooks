{
 "metadata": {
  "name": "Parallel througput anomaly"
 },
 "nbformat": 3,
 "nbformat_minor": 0,
 "worksheets": [
  {
   "cells": [
    {
     "cell_type": "markdown",
     "metadata": {},
     "source": [
      "Dependency of throughput rate on number of analytical workers\n",
      "--------------------------------------------------------------\n",
      "a) ./run_mix_vs_single.py --bench=TPCC --custom=total_terminals=2\n",
      "\n",
      "> 996.3224018694682 requests/sec\n",
      "\n",
      "b) ./run_mix_vs_single.py --bench=MIXED --custom=total_terminals=2,ch_terminals=1\n",
      "\n",
      ">1522.352274256202 requests/sec\n",
      "\n",
      "c) ./run_mix_vs_single.py --bench=TPCC --custom=total_terminals=2,time=60\n",
      "\n",
      ">1242.463820538833 requests/sec\n",
      "\n",
      "d) ./run_mix_vs_single.py --bench=MIXED --custom=total_terminals=2,ch_terminals=1,time=60\n",
      "\n",
      ">1555.0489391087608 requests/sec\n",
      "\n",
      "e) ./run_mix_vs_single.py --bench=MIXED --custom=total_terminals=2,time=60\n",
      "\n",
      ">1524.265218614709 requests/sec\n",
      "\n",
      "f) ./run_mix_vs_single.py --bench=TPCC --custom=total_terminals=2,time=60\n",
      "\n",
      ">984.3535074220583 requests/sec\n",
      "\n",
      "g) ./run_mix_vs_single.py --bench=TPCC --custom=total_terminals=4,time=60\n",
      "\n",
      ">1976.665151223384 requests/sec\n",
      "\n",
      "h) ./run_mix_vs_single.py --bench=MIXED --custom=total_terminals=4,ch_terminals=1,time=60\n",
      "\n",
      ">2763.5676270573194 requests/sec\n",
      "\n",
      "i) ./run_mix_vs_single.py --bench=TPCC --custom=total_terminals=1,time=60\n",
      "\n",
      ">438.25581983512575 requests/sec\n",
      "\n",
      "j) ./run_mix_vs_single.py --bench=MIXED --custom=total_terminals=1,ch_terminals=1,time=60\n",
      "\n",
      ">512.9413312915012 requests/sec\n"
     ]
    },
    {
     "cell_type": "code",
     "collapsed": false,
     "input": [
      "%pylab inline\n",
      "import string\n",
      "import os\n",
      "# load first run\n",
      "paths = {key: os.path.join(\"/home/alendit/master/runner/output/archive\", path)\\\n",
      "     for key, path in zip(string.letters[:10], ['configs 24.02.13 18:34/TPCC.raw',\n",
      "                                                 'configs 24.02.13 18:35/MIXED.raw',\n",
      "                                                 'configs 24.02.13 18:37/TPCC.raw',\n",
      "                                                 'configs 24.02.13 18:38/MIXED.raw',\n",
      "                                                 'configs 24.02.13 19:17/MIXED.raw',\n",
      "                                                 'configs 24.02.13 19:19/TPCC.raw',\n",
      "                                                 'configs 24.02.13 19:48/TPCC.raw',\n",
      "                                                 'configs 24.02.13 19:50/MIXED.raw',\n",
      "                                                 'configs 24.02.13 20:03/TPCC.raw',\n",
      "                                                 'configs 24.02.13 20:04/MIXED.raw',\n",
      "                                                ])}"
     ],
     "language": "python",
     "metadata": {},
     "outputs": [
      {
       "output_type": "stream",
       "stream": "stdout",
       "text": [
        "\n",
        "Welcome to pylab, a matplotlib-based Python environment [backend: module://IPython.kernel.zmq.pylab.backend_inline].\n",
        "For more information, type 'help(pylab)'.\n"
       ]
      }
     ],
     "prompt_number": 7
    },
    {
     "cell_type": "code",
     "collapsed": false,
     "input": [
      "import pandas as pd\n",
      "import matplotlib.pyplot as plt\n",
      "from collections import OrderedDict\n",
      "benchmarks = OrderedDict()\n",
      "for key in sorted(paths):\n",
      "    benchmarks[key] = pd.read_csv(paths[key], names=['tt', 's', 'l'], header=1)"
     ],
     "language": "python",
     "metadata": {},
     "outputs": [],
     "prompt_number": 14
    },
    {
     "cell_type": "markdown",
     "metadata": {},
     "source": [
      "oltpbenchmark req/sec reporting includes about 33% of InvalidQueries"
     ]
    },
    {
     "cell_type": "code",
     "collapsed": false,
     "input": [
      "for key, value in benchmarks.items():\n",
      "    run_time = float(value['s'].max()) - float(value['s'].min())\n",
      "    total_reqs = len(value[value['tt'] < 7])\n",
      "    print \"{}) {} req/sec\".format(key, total_reqs / run_time)"
     ],
     "language": "python",
     "metadata": {},
     "outputs": [
      {
       "output_type": "stream",
       "stream": "stdout",
       "text": [
        "A) 664.926562722 req/sec\n",
        "B) 1012.33861986 req/sec\n",
        "C) 828.557943708 req/sec\n",
        "D) 1035.08935536 req/sec\n",
        "E) 1015.31103227 req/sec\n",
        "F) 656.546794307 req/sec\n",
        "G) 1317.78788463 req/sec\n",
        "H) 1841.92787231 req/sec\n",
        "I) 292.556150605 req/sec\n",
        "J) 341.578470714 req/sec\n"
       ]
      }
     ],
     "prompt_number": 9
    },
    {
     "cell_type": "markdown",
     "metadata": {},
     "source": [
      "Obvious throughput increace with added analytical worker"
     ]
    },
    {
     "cell_type": "code",
     "collapsed": false,
     "input": [
      "from __future__ import division\n",
      "\n",
      "def compare(analytical_letter, tpcc_letter):\n",
      "    \"\"\"compare analytical and tpcc run\"\"\"\n",
      "    fig = plt.figure()\n",
      "    ax = fig.add_subplot(111)\n",
      "    analytical = benchmarks[analytical_letter]\n",
      "    tpcc = benchmarks[tpcc_letter]\n",
      "\n",
      "    # filter transactional queries\n",
      "    analytical = analytical[analytical['tt'] < 7]\n",
      "    tpcc = tpcc[tpcc['tt'] < 7]\n",
      "    \n",
      "    # group by transaction type and plot throughputs\n",
      "    # blue - with analytical, red witout analytical worker\n",
      "    # running\n",
      "    analytical.groupby(\"tt\").size().plot(kind='bar', ax=ax)\n",
      "    tpcc.groupby(\"tt\").size().plot(kind='bar', color='red', ax=ax)\n",
      "    fig.savefig(analytical_letter+\".svg\")\n",
      "    # print factor by which addition of an analytical worker increases throughput\n",
      "    print(analytical.groupby(\"tt\").size() / tpcc.groupby(\"tt\").size())"
     ],
     "language": "python",
     "metadata": {},
     "outputs": [],
     "prompt_number": 19
    },
    {
     "cell_type": "code",
     "collapsed": false,
     "input": [
      "# compare runs E and F, 2 transactional workerse\n",
      "compare(analytical_letter=\"E\", tpcc_letter=\"F\")"
     ],
     "language": "python",
     "metadata": {},
     "outputs": [
      {
       "output_type": "stream",
       "stream": "stdout",
       "text": [
        "tt\n",
        "2     1.535418\n",
        "3     1.553613\n",
        "4     1.496283\n",
        "5     1.587842\n",
        "6     1.595391\n",
        "dtype: float64\n"
       ]
      },
      {
       "metadata": {},
       "output_type": "display_data",
       "png": "[encoded data removed]",
       "text": [
        "<matplotlib.figure.Figure at 0x5e1d690>"
       ]
      }
     ],
     "prompt_number": 20
    },
    {
     "cell_type": "code",
     "collapsed": false,
     "input": [
      "# compare G and H, 4 transactional workers\n",
      "compare(analytical_letter=\"H\", tpcc_letter=\"G\")"
     ],
     "language": "python",
     "metadata": {},
     "outputs": [
      {
       "output_type": "stream",
       "stream": "stdout",
       "text": [
        "tt\n",
        "2     1.400961\n",
        "3     1.390369\n",
        "4     1.390446\n",
        "5     1.416031\n",
        "6     1.430964\n",
        "dtype: float64\n"
       ]
      },
      {
       "metadata": {},
       "output_type": "display_data",
       "png": "[encoded data removed]",
       "text": [
        "<matplotlib.figure.Figure at 0x4e59b10>"
       ]
      }
     ],
     "prompt_number": 21
    },
    {
     "cell_type": "code",
     "collapsed": false,
     "input": [
      "# compare I and J, 1 transactional worker\n",
      "compare(analytical_letter=\"J\", tpcc_letter=\"I\")"
     ],
     "language": "python",
     "metadata": {},
     "outputs": [
      {
       "output_type": "stream",
       "stream": "stdout",
       "text": [
        "tt\n",
        "2     1.154011\n",
        "3     1.174351\n",
        "4     1.197947\n",
        "5     1.220414\n",
        "6     1.186782\n",
        "dtype: float64\n"
       ]
      },
      {
       "metadata": {},
       "output_type": "display_data",
       "png": "[encoded data removed]",
       "text": [
        "<matplotlib.figure.Figure at 0x4e60f10>"
       ]
      }
     ],
     "prompt_number": 22
    },
    {
     "cell_type": "code",
     "collapsed": false,
     "input": [],
     "language": "python",
     "metadata": {},
     "outputs": []
    }
   ],
   "metadata": {}
  }
 ]
}